{
 "cells": [
  {
   "cell_type": "markdown",
   "metadata": {},
   "source": [
    "# QR Code Generator\n",
    "This small notebook creates QR code from a provided URL. The URL can be for websites or images shared through a publicly accessible link. I commonly use it to generate QR codes for event posters, website links and other quick access links I use for university club and volunteering activities."
   ]
  },
  {
   "cell_type": "code",
   "execution_count": 9,
   "metadata": {},
   "outputs": [
    {
     "name": "stdout",
     "output_type": "stream",
     "text": [
      "bob Dylan lives\n"
     ]
    }
   ],
   "source": [
    "import qrcode\n",
    "\n",
    "# Source for QR code\n",
    "input_data = \"www.yourlink.com\"\n",
    "\n",
    "# Generate QR code\n",
    "qr = qrcode.QRCode(\n",
    "        version=None,\n",
    "        box_size=10,\n",
    "        border=5)\n",
    "qr.add_data(input_data)\n",
    "qr.make(fit=True)\n",
    "img = qr.make_image(fill='black', back_color='white')\n",
    "img.save('myqrcode.png')"
   ]
  },
  {
   "cell_type": "markdown",
   "metadata": {},
   "source": [
    "The **version** parameter is an integer from 1 to 40 that controls the size of the QR Code (the smallest, version 1, is a 21x21 matrix). Set to None and use the fit parameter when making the code to determine this automatically."
   ]
  }
 ],
 "metadata": {
  "kernelspec": {
   "display_name": "Python 3 (ipykernel)",
   "language": "python",
   "name": "python3"
  },
  "language_info": {
   "codemirror_mode": {
    "name": "ipython",
    "version": 3
   },
   "file_extension": ".py",
   "mimetype": "text/x-python",
   "name": "python",
   "nbconvert_exporter": "python",
   "pygments_lexer": "ipython3",
   "version": "3.9.6"
  }
 },
 "nbformat": 4,
 "nbformat_minor": 4
}
